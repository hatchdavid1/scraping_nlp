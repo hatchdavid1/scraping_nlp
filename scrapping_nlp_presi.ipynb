{
 "cells": [
  {
   "cell_type": "code",
   "execution_count": 12,
   "metadata": {},
   "outputs": [
    {
     "name": "stderr",
     "output_type": "stream",
     "text": [
      "[nltk_data] Downloading package stopwords to\n",
      "[nltk_data]     C:\\Users\\dhatch\\AppData\\Roaming\\nltk_data...\n",
      "[nltk_data]   Package stopwords is already up-to-date!\n"
     ]
    }
   ],
   "source": [
    "import requests\n",
    "from bs4 import BeautifulSoup\n",
    "import numpy as np\n",
    "import pandas as pd\n",
    "\n",
    "import matplotlib.pyplot as plt\n",
    "%matplotlib inline\n",
    "from PIL import Image\n",
    "\n",
    "import string\n",
    "import spacy\n",
    "from spacy.lang.en.stop_words import STOP_WORDS\n",
    "from spacy.lang.en import English\n",
    "# !python3 -m spacy download en\n",
    "from spacy.lang.es import Spanish\n",
    "# !python3 -m spacy download es_core_news_md\n",
    "\n",
    "\n",
    "import nltk\n",
    "nltk.download('stopwords')\n",
    "from nltk.corpus import stopwords\n",
    "stop_words_sp=set(stopwords.words('spanish'))\n",
    "stop_words_en=set(stopwords.words('english'))\n",
    "stop_words=stop_words_sp | stop_words_en\n",
    "\n",
    "\n",
    "import re\n",
    "\n",
    "from langdetect import detect\n",
    "\n",
    "from wordcloud import WordCloud"
   ]
  },
  {
   "cell_type": "code",
   "execution_count": 13,
   "metadata": {},
   "outputs": [],
   "source": [
    "url_base = \"https://www.gob.mx/presidencia/es/archivo/articulos?idiom=es&order=DESC&page=\""
   ]
  },
  {
   "cell_type": "code",
   "execution_count": 14,
   "metadata": {},
   "outputs": [],
   "source": [
    "def obtiene_links(page):\n",
    "    response = requests.get(url_base + str(page))\n",
    "    sopa = BeautifulSoup(response.text)\n",
    "\n",
    "    div_prensa = sopa.find(id='prensa')\n",
    "    anchors = []\n",
    "    if div_prensa is not None:\n",
    "        anchors = div_prensa.find_all(\"a\")\n",
    "    else:\n",
    "        # Esto hace que el scraping funcione aunque la página regrese JavaScript\n",
    "        lineas = [linea.strip() for linea in response.text.split(\"\\n\") if \"prensa\" in linea]\n",
    "        lineas_limpias = [linea[21:-2].replace('\\\\\\\"',\"\\\"\").replace('\\/',\"/\").replace('\\\\n',\"\") for linea in lineas]\n",
    "        for html_bonito in lineas_limpias:\n",
    "            sopita = BeautifulSoup(html_bonito)\n",
    "            anclas = sopita.find_all(\"a\")\n",
    "            anchors.extend(anclas)\n",
    "\n",
    "    hrefs = [\"https://www.gob.mx\" + a[\"href\"] for a in anchors]\n",
    "    return hrefs"
   ]
  },
  {
   "cell_type": "code",
   "execution_count": 15,
   "metadata": {},
   "outputs": [],
   "source": [
    "links = []\n",
    "for pg in range(106):\n",
    "    links.extend(obtiene_links(pg))"
   ]
  },
  {
   "cell_type": "code",
   "execution_count": 28,
   "metadata": {},
   "outputs": [],
   "source": [
    "pres = []\n",
    "salud = []\n",
    "links_1 = pd.Series(links)\n",
    "for link in links_1:\n",
    "    if 'coronavirus' in link:\n",
    "        pass\n",
    "    else:\n",
    "        pres.append(link)"
   ]
  },
  {
   "cell_type": "code",
   "execution_count": null,
   "metadata": {},
   "outputs": [],
   "source": []
  },
  {
   "cell_type": "code",
   "execution_count": null,
   "metadata": {},
   "outputs": [],
   "source": []
  }
 ],
 "metadata": {
  "kernelspec": {
   "display_name": "Python 3",
   "language": "python",
   "name": "python3"
  },
  "language_info": {
   "codemirror_mode": {
    "name": "ipython",
    "version": 3
   },
   "file_extension": ".py",
   "mimetype": "text/x-python",
   "name": "python",
   "nbconvert_exporter": "python",
   "pygments_lexer": "ipython3",
   "version": "3.8.3"
  }
 },
 "nbformat": 4,
 "nbformat_minor": 4
}
